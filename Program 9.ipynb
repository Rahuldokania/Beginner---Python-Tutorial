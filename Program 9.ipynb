{
 "cells": [
  {
   "cell_type": "markdown",
   "metadata": {},
   "source": [
    "# No. of 0's , 1's, .... in a mobile number"
   ]
  },
  {
   "cell_type": "code",
   "execution_count": 1,
   "metadata": {},
   "outputs": [
    {
     "name": "stdout",
     "output_type": "stream",
     "text": [
      "Enter the 10 digit mobile number: 7207446519\n"
     ]
    }
   ],
   "source": [
    "#Just one fun activity using your mobile number\n",
    "\n",
    "mobile=input('Enter the 10 digit mobile number: ')\n",
    "mobile=str(mobile)\n"
   ]
  },
  {
   "cell_type": "code",
   "execution_count": 2,
   "metadata": {},
   "outputs": [
    {
     "name": "stdout",
     "output_type": "stream",
     "text": [
      "No. of 0s are:  1\n",
      "No. of 1s are:  1\n",
      "No. of 2s are:  1\n",
      "No. of 3s are:  0\n",
      "No. of 4s are:  2\n",
      "No. of 5s are:  1\n",
      "No. of 6s are:  1\n",
      "No. of 7s are:  2\n",
      "No. of 8s are:  0\n",
      "No. of 9s are:  1\n"
     ]
    }
   ],
   "source": [
    "#using if-else loops and len function to count the length of the mobile number, != means not equals\n",
    "\n",
    "if len(mobile) !=10 :\n",
    "    print('Invalid number')\n",
    "else:\n",
    "    print('No. of 0s are: ',mobile.count('0'))\n",
    "    print('No. of 1s are: ',mobile.count('1'))\n",
    "    print('No. of 2s are: ',mobile.count('2'))\n",
    "    print('No. of 3s are: ',mobile.count('3'))\n",
    "    print('No. of 4s are: ',mobile.count('4'))\n",
    "    print('No. of 5s are: ',mobile.count('5'))\n",
    "    print('No. of 6s are: ',mobile.count('6'))\n",
    "    print('No. of 7s are: ',mobile.count('7'))\n",
    "    print('No. of 8s are: ',mobile.count('8'))\n",
    "    print('No. of 9s are: ',mobile.count('9'))"
   ]
  }
 ],
 "metadata": {
  "kernelspec": {
   "display_name": "Python 3",
   "language": "python",
   "name": "python3"
  },
  "language_info": {
   "codemirror_mode": {
    "name": "ipython",
    "version": 3
   },
   "file_extension": ".py",
   "mimetype": "text/x-python",
   "name": "python",
   "nbconvert_exporter": "python",
   "pygments_lexer": "ipython3",
   "version": "3.7.3"
  }
 },
 "nbformat": 4,
 "nbformat_minor": 2
}
