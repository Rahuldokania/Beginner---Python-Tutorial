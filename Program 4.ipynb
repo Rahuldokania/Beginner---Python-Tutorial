{
 "cells": [
  {
   "cell_type": "markdown",
   "metadata": {},
   "source": [
    "# Give manual input and find out greatest of 2 numbers"
   ]
  },
  {
   "cell_type": "code",
   "execution_count": 1,
   "metadata": {},
   "outputs": [
    {
     "name": "stdout",
     "output_type": "stream",
     "text": [
      "Enter first number: 3\n",
      "Enter second number: 7\n"
     ]
    }
   ],
   "source": [
    "#giving manual input converting the string into valid integer using int()\n",
    "a=int(input('Enter first number: '))\n",
    "b=int(input('Enter second number: '))#int('3')"
   ]
  },
  {
   "cell_type": "code",
   "execution_count": 2,
   "metadata": {},
   "outputs": [
    {
     "name": "stdout",
     "output_type": "stream",
     "text": [
      "7  is greater than  3\n"
     ]
    }
   ],
   "source": [
    "#using first loop -if , checking condition using '>'Greater than operator otherwise else\n",
    "if(a>b):\n",
    "    print(a , ' is greater than ', b)\n",
    "else:\n",
    "    print(b , ' is greater than ', a)"
   ]
  },
  {
   "cell_type": "code",
   "execution_count": null,
   "metadata": {},
   "outputs": [],
   "source": [
    "    "
   ]
  }
 ],
 "metadata": {
  "kernelspec": {
   "display_name": "Python 3",
   "language": "python",
   "name": "python3"
  },
  "language_info": {
   "codemirror_mode": {
    "name": "ipython",
    "version": 3
   },
   "file_extension": ".py",
   "mimetype": "text/x-python",
   "name": "python",
   "nbconvert_exporter": "python",
   "pygments_lexer": "ipython3",
   "version": "3.7.3"
  }
 },
 "nbformat": 4,
 "nbformat_minor": 2
}
