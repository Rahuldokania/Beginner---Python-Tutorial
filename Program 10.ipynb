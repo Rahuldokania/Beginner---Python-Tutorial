{
 "cells": [
  {
   "cell_type": "markdown",
   "metadata": {},
   "source": [
    "# Basic Calculator using if-elif-else loops"
   ]
  },
  {
   "cell_type": "code",
   "execution_count": 3,
   "metadata": {},
   "outputs": [
    {
     "name": "stdout",
     "output_type": "stream",
     "text": [
      "Enter first number: 3.1\n",
      "Enter second number: 3\n"
     ]
    }
   ],
   "source": [
    "#two input integers for calculations needed\n",
    "\n",
    "a=float(input('Enter first number: '))\n",
    "b=int(input('Enter second number: '))"
   ]
  },
  {
   "cell_type": "code",
   "execution_count": null,
   "metadata": {},
   "outputs": [
    {
     "name": "stdout",
     "output_type": "stream",
     "text": [
      "Enter the opertion to perform \n",
      " 1 for Addition \n",
      " 2 for Subtraction \n",
      " 3 for Multipliction \n",
      " 4 for Division \n",
      " 0 for Abort: 1\n",
      "Addition is :  6.1\n",
      "Enter the opertion to perform \n",
      " 1 for Addition \n",
      " 2 for Subtraction \n",
      " 3 for Multipliction \n",
      " 4 for Division \n",
      " 0 for Abort: 1\n",
      "Addition is :  6.1\n"
     ]
    }
   ],
   "source": [
    "#using while loop to use the operations until abort\n",
    "\n",
    "i=1\n",
    "while(i>0):\n",
    "    i=int(input('Enter the opertion to perform \\n 1 for Addition \\n 2 for Subtraction \\n 3 for Multipliction \\n 4 for Division \\n 0 for Abort: '))\n",
    "    if i == 1:\n",
    "        print('Addition is : ',a+b)\n",
    "    elif i == 2:\n",
    "        print('Subtraction is : ',a-b)\n",
    "    elif i == 3:\n",
    "        print('Multiplication is : ',a*b)\n",
    "    elif i == 4:\n",
    "        print('Division is : ',a/b)\n",
    "    else:\n",
    "        print('Aborted')"
   ]
  }
 ],
 "metadata": {
  "kernelspec": {
   "display_name": "Python 3",
   "language": "python",
   "name": "python3"
  },
  "language_info": {
   "codemirror_mode": {
    "name": "ipython",
    "version": 3
   },
   "file_extension": ".py",
   "mimetype": "text/x-python",
   "name": "python",
   "nbconvert_exporter": "python",
   "pygments_lexer": "ipython3",
   "version": "3.7.3"
  }
 },
 "nbformat": 4,
 "nbformat_minor": 2
}
